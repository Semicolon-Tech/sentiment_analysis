{
 "cells": [
  {
   "cell_type": "code",
   "execution_count": 1,
   "metadata": {},
   "outputs": [],
   "source": [
    "import numpy as np\n",
    "import scipy.stats"
   ]
  },
  {
   "cell_type": "code",
   "execution_count": 4,
   "metadata": {},
   "outputs": [],
   "source": [
    "def getcorr(x, y):\n",
    "    pearsonr = scipy.stats.pearsonr(x, y)\n",
    "    spearmanr = scipy.stats.spearmanr(x, y)\n",
    "    kendalltau = scipy.stats.kendalltau(x, y)\n",
    "    \n",
    "    print(f\"pearsonr:   {pearsonr[0]:.4f}, {pearsonr[1]:.4f}\")    # Pearson's r\n",
    "    print(f\"spearmanr:  {spearmanr[0]:.4f}, {spearmanr[1]:.4f}\")   # Spearman's rho\n",
    "    print(f\"kendalltau: {kendalltau[0]:.4f}, {kendalltau[1]:.4f}\")  # Kendall's tau"
   ]
  },
  {
   "cell_type": "code",
   "execution_count": 10,
   "metadata": {},
   "outputs": [
    {
     "name": "stdout",
     "output_type": "stream",
     "text": [
      "pearsonr:   0.7586, 0.0110\n",
      "spearmanr:  0.9758, 0.0000\n",
      "kendalltau: 0.9111, 0.0000\n"
     ]
    }
   ],
   "source": [
    "x = np.arange(10, 20)\n",
    "y = np.array([2, 1, 4, 5, 8, 12, 18, 25, 96, 48])\n",
    "\n",
    "getcorr(x, y)"
   ]
  },
  {
   "cell_type": "code",
   "execution_count": 13,
   "metadata": {},
   "outputs": [
    {
     "name": "stdout",
     "output_type": "stream",
     "text": [
      "pearsonr:   0.6831, 0.0143\n",
      "spearmanr:  0.6831, 0.0143\n",
      "kendalltau: 0.6831, 0.0235\n"
     ]
    }
   ],
   "source": [
    "x = np.array([0, 0, 0, 0, 3, 0, 0, 0, 0, 3, 0, 3])\n",
    "y = np.array([0, 0, 1, 0, 1, 0, 1, 0, 0, 1, 0, 1])\n",
    "\n",
    "getcorr(x, y)"
   ]
  },
  {
   "cell_type": "code",
   "execution_count": 24,
   "metadata": {},
   "outputs": [],
   "source": [
    "model = scipy.stats.linregress(x, y)\n",
    "predict = lambda model, x: (model.slope*x) + model.intercept\n",
    "predict_range = lambda model, x: (predict(model, x) - model.stderr, predict(model, x), predict(model, x) + model.stderr)"
   ]
  },
  {
   "cell_type": "code",
   "execution_count": 28,
   "metadata": {},
   "outputs": [
    {
     "data": {
      "text/plain": [
       "(0.9123543735837094, 1.0, 1.0876456264162906)"
      ]
     },
     "execution_count": 28,
     "metadata": {},
     "output_type": "execute_result"
    }
   ],
   "source": [
    "predict_range(model, 3)"
   ]
  },
  {
   "cell_type": "code",
   "execution_count": null,
   "metadata": {},
   "outputs": [],
   "source": []
  }
 ],
 "metadata": {
  "kernelspec": {
   "display_name": "Python 3",
   "language": "python",
   "name": "python3"
  },
  "language_info": {
   "codemirror_mode": {
    "name": "ipython",
    "version": 3
   },
   "file_extension": ".py",
   "mimetype": "text/x-python",
   "name": "python",
   "nbconvert_exporter": "python",
   "pygments_lexer": "ipython3",
   "version": "3.8.5"
  }
 },
 "nbformat": 4,
 "nbformat_minor": 4
}
